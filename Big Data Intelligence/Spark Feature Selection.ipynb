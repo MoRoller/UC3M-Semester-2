{
 "cells": [
  {
   "cell_type": "markdown",
   "metadata": {
    "id": "1qvo2gdq20za"
   },
   "source": [
    "# Prep"
   ]
  },
  {
   "cell_type": "code",
   "execution_count": 1,
   "metadata": {
    "colab": {
     "base_uri": "https://localhost:8080/"
    },
    "executionInfo": {
     "elapsed": 34427,
     "status": "ok",
     "timestamp": 1704906079754,
     "user": {
      "displayName": "Moritz Roller",
      "userId": "06905633796207639823"
     },
     "user_tz": -60
    },
    "id": "tJs35bs2fvc9",
    "outputId": "35562963-fafa-4b41-c874-e072f8eb1352"
   },
   "outputs": [
    {
     "name": "stdout",
     "output_type": "stream",
     "text": [
      "Requirement already satisfied: pyspark in /usr/local/lib/python3.10/dist-packages (3.5.0)\n",
      "Requirement already satisfied: py4j==0.10.9.7 in /usr/local/lib/python3.10/dist-packages (from pyspark) (0.10.9.7)\n",
      "\u001b[33mWARNING: Running pip as the 'root' user can result in broken permissions and conflicting behaviour with the system package manager. It is recommended to use a virtual environment instead: https://pip.pypa.io/warnings/venv\u001b[0m\u001b[33m\n",
      "\u001b[0mRequirement already satisfied: pip in /usr/local/lib/python3.10/dist-packages (23.3.2)\n",
      "\u001b[33mWARNING: Running pip as the 'root' user can result in broken permissions and conflicting behaviour with the system package manager. It is recommended to use a virtual environment instead: https://pip.pypa.io/warnings/venv\u001b[0m\u001b[33m\n",
      "\u001b[0mRequirement already satisfied: pyspark in /usr/local/lib/python3.10/dist-packages (3.5.0)\n",
      "Requirement already satisfied: py4j==0.10.9.7 in /usr/local/lib/python3.10/dist-packages (from pyspark) (0.10.9.7)\n",
      "\u001b[33mWARNING: Running pip as the 'root' user can result in broken permissions and conflicting behaviour with the system package manager. It is recommended to use a virtual environment instead: https://pip.pypa.io/warnings/venv\u001b[0m\u001b[33m\n",
      "\u001b[0m"
     ]
    }
   ],
   "source": [
    "!pip install pyspark\n",
    "!pip install --upgrade pip\n",
    "!pip install --upgrade pyspark"
   ]
  },
  {
   "cell_type": "code",
   "execution_count": 2,
   "metadata": {
    "executionInfo": {
     "elapsed": 1156,
     "status": "ok",
     "timestamp": 1704906080904,
     "user": {
      "displayName": "Moritz Roller",
      "userId": "06905633796207639823"
     },
     "user_tz": -60
    },
    "id": "zAcp1vItiRIz"
   },
   "outputs": [],
   "source": [
    "import pandas as pd\n",
    "import numpy as np"
   ]
  },
  {
   "cell_type": "code",
   "execution_count": 3,
   "metadata": {
    "colab": {
     "base_uri": "https://localhost:8080/"
    },
    "executionInfo": {
     "elapsed": 1616,
     "status": "ok",
     "timestamp": 1704906082515,
     "user": {
      "displayName": "Moritz Roller",
      "userId": "06905633796207639823"
     },
     "user_tz": -60
    },
    "id": "3c_eiilkgSci",
    "outputId": "21da0030-9e57-4739-ad45-49cb236ec6ff"
   },
   "outputs": [
    {
     "name": "stdout",
     "output_type": "stream",
     "text": [
      "Drive already mounted at /content/drive/; to attempt to forcibly remount, call drive.mount(\"/content/drive/\", force_remount=True).\n"
     ]
    }
   ],
   "source": [
    "from google.colab import drive\n",
    "drive.mount('/content/drive/')"
   ]
  },
  {
   "cell_type": "code",
   "execution_count": 4,
   "metadata": {
    "colab": {
     "base_uri": "https://localhost:8080/"
    },
    "executionInfo": {
     "elapsed": 251,
     "status": "ok",
     "timestamp": 1704906082761,
     "user": {
      "displayName": "Moritz Roller",
      "userId": "06905633796207639823"
     },
     "user_tz": -60
    },
    "id": "K8lqo1E-gWBt",
    "outputId": "97f24a80-aed3-41bf-b3e9-3ba6197d41ef"
   },
   "outputs": [
    {
     "name": "stdout",
     "output_type": "stream",
     "text": [
      "/content/drive/MyDrive/Colab Notebooks/UC3M/Big Data Intelligence/Assignment 2 - Spark\n"
     ]
    }
   ],
   "source": [
    "cd '/content/drive/MyDrive/Colab Notebooks/UC3M/Big Data Intelligence/Assignment 2 - Spark'"
   ]
  },
  {
   "cell_type": "code",
   "execution_count": 5,
   "metadata": {
    "colab": {
     "base_uri": "https://localhost:8080/"
    },
    "executionInfo": {
     "elapsed": 16143,
     "status": "ok",
     "timestamp": 1704906098901,
     "user": {
      "displayName": "Moritz Roller",
      "userId": "06905633796207639823"
     },
     "user_tz": -60
    },
    "id": "zkV1_LSdf0gN",
    "outputId": "5e98efc7-1ce9-4dab-e8f1-5bbe09ee81e2"
   },
   "outputs": [
    {
     "name": "stdout",
     "output_type": "stream",
     "text": [
      "<pyspark.sql.session.SparkSession object at 0x798e8b91db40>\n",
      "<SparkContext master=local[*] appName=Pyspark Assignment>\n"
     ]
    }
   ],
   "source": [
    "from pyspark.sql import SparkSession\n",
    "spark = SparkSession \\\n",
    "    .builder \\\n",
    "    .appName(\"Pyspark Assignment\") \\\n",
    "    .config(\"spark.driver.memory\", \"4g\") \\\n",
    "    .getOrCreate()\n",
    "sc = spark.sparkContext\n",
    "\n",
    "# This is the spark context\n",
    "print(spark)\n",
    "print(sc)"
   ]
  },
  {
   "cell_type": "code",
   "execution_count": 6,
   "metadata": {
    "colab": {
     "base_uri": "https://localhost:8080/",
     "height": 141
    },
    "executionInfo": {
     "elapsed": 1835,
     "status": "ok",
     "timestamp": 1704906100717,
     "user": {
      "displayName": "Moritz Roller",
      "userId": "06905633796207639823"
     },
     "user_tz": -60
    },
    "id": "rhpu_mRZgo_g",
    "outputId": "6b5b39b7-388a-4f0d-c790-b032d8867c28"
   },
   "outputs": [
    {
     "data": {
      "text/html": [
       "\n",
       "  <div id=\"df-aa0689a2-9a40-44ae-9380-74cb8576da98\" class=\"colab-df-container\">\n",
       "    <div>\n",
       "<style scoped>\n",
       "    .dataframe tbody tr th:only-of-type {\n",
       "        vertical-align: middle;\n",
       "    }\n",
       "\n",
       "    .dataframe tbody tr th {\n",
       "        vertical-align: top;\n",
       "    }\n",
       "\n",
       "    .dataframe thead th {\n",
       "        text-align: right;\n",
       "    }\n",
       "</style>\n",
       "<table border=\"1\" class=\"dataframe\">\n",
       "  <thead>\n",
       "    <tr style=\"text-align: right;\">\n",
       "      <th></th>\n",
       "      <th>energy</th>\n",
       "      <th>year</th>\n",
       "      <th>month</th>\n",
       "      <th>day</th>\n",
       "      <th>hour</th>\n",
       "      <th>p54_162_1</th>\n",
       "      <th>p54_162_2</th>\n",
       "      <th>p54_162_3</th>\n",
       "      <th>p54_162_4</th>\n",
       "      <th>p54_162_5</th>\n",
       "      <th>...</th>\n",
       "      <th>v100_16</th>\n",
       "      <th>v100_17</th>\n",
       "      <th>v100_18</th>\n",
       "      <th>v100_19</th>\n",
       "      <th>v100_20</th>\n",
       "      <th>v100_21</th>\n",
       "      <th>v100_22</th>\n",
       "      <th>v100_23</th>\n",
       "      <th>v100_24</th>\n",
       "      <th>v100_25</th>\n",
       "    </tr>\n",
       "  </thead>\n",
       "  <tbody>\n",
       "    <tr>\n",
       "      <th>0</th>\n",
       "      <td>402.71</td>\n",
       "      <td>2005</td>\n",
       "      <td>1</td>\n",
       "      <td>2</td>\n",
       "      <td>18</td>\n",
       "      <td>2.534970e+06</td>\n",
       "      <td>2.526864e+06</td>\n",
       "      <td>2.518754e+06</td>\n",
       "      <td>2.510648e+06</td>\n",
       "      <td>2.502537e+06</td>\n",
       "      <td>...</td>\n",
       "      <td>-4.683596</td>\n",
       "      <td>NaN</td>\n",
       "      <td>-4.407196</td>\n",
       "      <td>NaN</td>\n",
       "      <td>-4.131295</td>\n",
       "      <td>-4.669626</td>\n",
       "      <td>-4.528932</td>\n",
       "      <td>-4.388736</td>\n",
       "      <td>-4.248540</td>\n",
       "      <td>-4.107846</td>\n",
       "    </tr>\n",
       "    <tr>\n",
       "      <th>1</th>\n",
       "      <td>696.80</td>\n",
       "      <td>2005</td>\n",
       "      <td>1</td>\n",
       "      <td>3</td>\n",
       "      <td>0</td>\n",
       "      <td>NaN</td>\n",
       "      <td>NaN</td>\n",
       "      <td>2.521184e+06</td>\n",
       "      <td>2.513088e+06</td>\n",
       "      <td>NaN</td>\n",
       "      <td>...</td>\n",
       "      <td>-3.397886</td>\n",
       "      <td>-3.257192</td>\n",
       "      <td>-3.115998</td>\n",
       "      <td>-2.975304</td>\n",
       "      <td>-2.834609</td>\n",
       "      <td>-3.396390</td>\n",
       "      <td>-3.254198</td>\n",
       "      <td>-3.112506</td>\n",
       "      <td>-2.970314</td>\n",
       "      <td>NaN</td>\n",
       "    </tr>\n",
       "  </tbody>\n",
       "</table>\n",
       "<p>2 rows × 555 columns</p>\n",
       "</div>\n",
       "    <div class=\"colab-df-buttons\">\n",
       "\n",
       "  <div class=\"colab-df-container\">\n",
       "    <button class=\"colab-df-convert\" onclick=\"convertToInteractive('df-aa0689a2-9a40-44ae-9380-74cb8576da98')\"\n",
       "            title=\"Convert this dataframe to an interactive table.\"\n",
       "            style=\"display:none;\">\n",
       "\n",
       "  <svg xmlns=\"http://www.w3.org/2000/svg\" height=\"24px\" viewBox=\"0 -960 960 960\">\n",
       "    <path d=\"M120-120v-720h720v720H120Zm60-500h600v-160H180v160Zm220 220h160v-160H400v160Zm0 220h160v-160H400v160ZM180-400h160v-160H180v160Zm440 0h160v-160H620v160ZM180-180h160v-160H180v160Zm440 0h160v-160H620v160Z\"/>\n",
       "  </svg>\n",
       "    </button>\n",
       "\n",
       "  <style>\n",
       "    .colab-df-container {\n",
       "      display:flex;\n",
       "      gap: 12px;\n",
       "    }\n",
       "\n",
       "    .colab-df-convert {\n",
       "      background-color: #E8F0FE;\n",
       "      border: none;\n",
       "      border-radius: 50%;\n",
       "      cursor: pointer;\n",
       "      display: none;\n",
       "      fill: #1967D2;\n",
       "      height: 32px;\n",
       "      padding: 0 0 0 0;\n",
       "      width: 32px;\n",
       "    }\n",
       "\n",
       "    .colab-df-convert:hover {\n",
       "      background-color: #E2EBFA;\n",
       "      box-shadow: 0px 1px 2px rgba(60, 64, 67, 0.3), 0px 1px 3px 1px rgba(60, 64, 67, 0.15);\n",
       "      fill: #174EA6;\n",
       "    }\n",
       "\n",
       "    .colab-df-buttons div {\n",
       "      margin-bottom: 4px;\n",
       "    }\n",
       "\n",
       "    [theme=dark] .colab-df-convert {\n",
       "      background-color: #3B4455;\n",
       "      fill: #D2E3FC;\n",
       "    }\n",
       "\n",
       "    [theme=dark] .colab-df-convert:hover {\n",
       "      background-color: #434B5C;\n",
       "      box-shadow: 0px 1px 3px 1px rgba(0, 0, 0, 0.15);\n",
       "      filter: drop-shadow(0px 1px 2px rgba(0, 0, 0, 0.3));\n",
       "      fill: #FFFFFF;\n",
       "    }\n",
       "  </style>\n",
       "\n",
       "    <script>\n",
       "      const buttonEl =\n",
       "        document.querySelector('#df-aa0689a2-9a40-44ae-9380-74cb8576da98 button.colab-df-convert');\n",
       "      buttonEl.style.display =\n",
       "        google.colab.kernel.accessAllowed ? 'block' : 'none';\n",
       "\n",
       "      async function convertToInteractive(key) {\n",
       "        const element = document.querySelector('#df-aa0689a2-9a40-44ae-9380-74cb8576da98');\n",
       "        const dataTable =\n",
       "          await google.colab.kernel.invokeFunction('convertToInteractive',\n",
       "                                                    [key], {});\n",
       "        if (!dataTable) return;\n",
       "\n",
       "        const docLinkHtml = 'Like what you see? Visit the ' +\n",
       "          '<a target=\"_blank\" href=https://colab.research.google.com/notebooks/data_table.ipynb>data table notebook</a>'\n",
       "          + ' to learn more about interactive tables.';\n",
       "        element.innerHTML = '';\n",
       "        dataTable['output_type'] = 'display_data';\n",
       "        await google.colab.output.renderOutput(dataTable, element);\n",
       "        const docLink = document.createElement('div');\n",
       "        docLink.innerHTML = docLinkHtml;\n",
       "        element.appendChild(docLink);\n",
       "      }\n",
       "    </script>\n",
       "  </div>\n",
       "\n",
       "\n",
       "<div id=\"df-75dc766f-64e4-4ce8-b8ef-8b6397624dd6\">\n",
       "  <button class=\"colab-df-quickchart\" onclick=\"quickchart('df-75dc766f-64e4-4ce8-b8ef-8b6397624dd6')\"\n",
       "            title=\"Suggest charts\"\n",
       "            style=\"display:none;\">\n",
       "\n",
       "<svg xmlns=\"http://www.w3.org/2000/svg\" height=\"24px\"viewBox=\"0 0 24 24\"\n",
       "     width=\"24px\">\n",
       "    <g>\n",
       "        <path d=\"M19 3H5c-1.1 0-2 .9-2 2v14c0 1.1.9 2 2 2h14c1.1 0 2-.9 2-2V5c0-1.1-.9-2-2-2zM9 17H7v-7h2v7zm4 0h-2V7h2v10zm4 0h-2v-4h2v4z\"/>\n",
       "    </g>\n",
       "</svg>\n",
       "  </button>\n",
       "\n",
       "<style>\n",
       "  .colab-df-quickchart {\n",
       "      --bg-color: #E8F0FE;\n",
       "      --fill-color: #1967D2;\n",
       "      --hover-bg-color: #E2EBFA;\n",
       "      --hover-fill-color: #174EA6;\n",
       "      --disabled-fill-color: #AAA;\n",
       "      --disabled-bg-color: #DDD;\n",
       "  }\n",
       "\n",
       "  [theme=dark] .colab-df-quickchart {\n",
       "      --bg-color: #3B4455;\n",
       "      --fill-color: #D2E3FC;\n",
       "      --hover-bg-color: #434B5C;\n",
       "      --hover-fill-color: #FFFFFF;\n",
       "      --disabled-bg-color: #3B4455;\n",
       "      --disabled-fill-color: #666;\n",
       "  }\n",
       "\n",
       "  .colab-df-quickchart {\n",
       "    background-color: var(--bg-color);\n",
       "    border: none;\n",
       "    border-radius: 50%;\n",
       "    cursor: pointer;\n",
       "    display: none;\n",
       "    fill: var(--fill-color);\n",
       "    height: 32px;\n",
       "    padding: 0;\n",
       "    width: 32px;\n",
       "  }\n",
       "\n",
       "  .colab-df-quickchart:hover {\n",
       "    background-color: var(--hover-bg-color);\n",
       "    box-shadow: 0 1px 2px rgba(60, 64, 67, 0.3), 0 1px 3px 1px rgba(60, 64, 67, 0.15);\n",
       "    fill: var(--button-hover-fill-color);\n",
       "  }\n",
       "\n",
       "  .colab-df-quickchart-complete:disabled,\n",
       "  .colab-df-quickchart-complete:disabled:hover {\n",
       "    background-color: var(--disabled-bg-color);\n",
       "    fill: var(--disabled-fill-color);\n",
       "    box-shadow: none;\n",
       "  }\n",
       "\n",
       "  .colab-df-spinner {\n",
       "    border: 2px solid var(--fill-color);\n",
       "    border-color: transparent;\n",
       "    border-bottom-color: var(--fill-color);\n",
       "    animation:\n",
       "      spin 1s steps(1) infinite;\n",
       "  }\n",
       "\n",
       "  @keyframes spin {\n",
       "    0% {\n",
       "      border-color: transparent;\n",
       "      border-bottom-color: var(--fill-color);\n",
       "      border-left-color: var(--fill-color);\n",
       "    }\n",
       "    20% {\n",
       "      border-color: transparent;\n",
       "      border-left-color: var(--fill-color);\n",
       "      border-top-color: var(--fill-color);\n",
       "    }\n",
       "    30% {\n",
       "      border-color: transparent;\n",
       "      border-left-color: var(--fill-color);\n",
       "      border-top-color: var(--fill-color);\n",
       "      border-right-color: var(--fill-color);\n",
       "    }\n",
       "    40% {\n",
       "      border-color: transparent;\n",
       "      border-right-color: var(--fill-color);\n",
       "      border-top-color: var(--fill-color);\n",
       "    }\n",
       "    60% {\n",
       "      border-color: transparent;\n",
       "      border-right-color: var(--fill-color);\n",
       "    }\n",
       "    80% {\n",
       "      border-color: transparent;\n",
       "      border-right-color: var(--fill-color);\n",
       "      border-bottom-color: var(--fill-color);\n",
       "    }\n",
       "    90% {\n",
       "      border-color: transparent;\n",
       "      border-bottom-color: var(--fill-color);\n",
       "    }\n",
       "  }\n",
       "</style>\n",
       "\n",
       "  <script>\n",
       "    async function quickchart(key) {\n",
       "      const quickchartButtonEl =\n",
       "        document.querySelector('#' + key + ' button');\n",
       "      quickchartButtonEl.disabled = true;  // To prevent multiple clicks.\n",
       "      quickchartButtonEl.classList.add('colab-df-spinner');\n",
       "      try {\n",
       "        const charts = await google.colab.kernel.invokeFunction(\n",
       "            'suggestCharts', [key], {});\n",
       "      } catch (error) {\n",
       "        console.error('Error during call to suggestCharts:', error);\n",
       "      }\n",
       "      quickchartButtonEl.classList.remove('colab-df-spinner');\n",
       "      quickchartButtonEl.classList.add('colab-df-quickchart-complete');\n",
       "    }\n",
       "    (() => {\n",
       "      let quickchartButtonEl =\n",
       "        document.querySelector('#df-75dc766f-64e4-4ce8-b8ef-8b6397624dd6 button');\n",
       "      quickchartButtonEl.style.display =\n",
       "        google.colab.kernel.accessAllowed ? 'block' : 'none';\n",
       "    })();\n",
       "  </script>\n",
       "</div>\n",
       "    </div>\n",
       "  </div>\n"
      ],
      "text/plain": [
       "   energy  year  month  day  hour     p54_162_1     p54_162_2     p54_162_3  \\\n",
       "0  402.71  2005      1    2    18  2.534970e+06  2.526864e+06  2.518754e+06   \n",
       "1  696.80  2005      1    3     0           NaN           NaN  2.521184e+06   \n",
       "\n",
       "      p54_162_4     p54_162_5  ...   v100_16   v100_17   v100_18   v100_19  \\\n",
       "0  2.510648e+06  2.502537e+06  ... -4.683596       NaN -4.407196       NaN   \n",
       "1  2.513088e+06           NaN  ... -3.397886 -3.257192 -3.115998 -2.975304   \n",
       "\n",
       "    v100_20   v100_21   v100_22   v100_23   v100_24   v100_25  \n",
       "0 -4.131295 -4.669626 -4.528932 -4.388736 -4.248540 -4.107846  \n",
       "1 -2.834609 -3.396390 -3.254198 -3.112506 -2.970314       NaN  \n",
       "\n",
       "[2 rows x 555 columns]"
      ]
     },
     "execution_count": 6,
     "metadata": {},
     "output_type": "execute_result"
    }
   ],
   "source": [
    "df = pd.read_csv('wind_available_second.csv.gz', compression='gzip')\n",
    "df.head(2)"
   ]
  },
  {
   "cell_type": "code",
   "execution_count": 7,
   "metadata": {
    "executionInfo": {
     "elapsed": 708,
     "status": "ok",
     "timestamp": 1704906101420,
     "user": {
      "displayName": "Moritz Roller",
      "userId": "06905633796207639823"
     },
     "user_tz": -60
    },
    "id": "TuktoNHdrGaC"
   },
   "outputs": [],
   "source": [
    "from pyspark.ml.feature import PCA\n",
    "from pyspark.ml.feature import ChiSqSelector\n",
    "from pyspark.ml import Pipeline\n",
    "from pyspark.ml.feature import StandardScaler\n",
    "\n",
    "from sklearn.feature_selection import SelectKBest, f_regression,SelectPercentile\n",
    "\n",
    "from pyspark.ml.regression import LinearRegression\n",
    "from pyspark.ml.regression import DecisionTreeRegressor\n",
    "\n",
    "import pyspark.ml.pipeline as pl\n",
    "from pyspark.ml.feature import StandardScaler, VectorAssembler, Imputer\n",
    "from sklearn.impute import SimpleImputer\n",
    "from pyspark.ml.feature import  UnivariateFeatureSelector\n",
    "\n",
    "from pyspark.ml import Pipeline\n",
    "from pyspark.ml.feature import PCA\n",
    "from pyspark.ml.evaluation import RegressionEvaluator\n"
   ]
  },
  {
   "cell_type": "code",
   "execution_count": 8,
   "metadata": {
    "executionInfo": {
     "elapsed": 36888,
     "status": "ok",
     "timestamp": 1704906138304,
     "user": {
      "displayName": "Moritz Roller",
      "userId": "06905633796207639823"
     },
     "user_tz": -60
    },
    "id": "ws7zSt7u0tFR"
   },
   "outputs": [],
   "source": [
    "rand_state = 100510993\n",
    "\n",
    "test = df[df['year'] == 2009]\n",
    "train = df[df['year'] != 2009]\n",
    "\n",
    "train_sdf = spark.createDataFrame(train)\n",
    "test_sdf = spark.createDataFrame(test)\n",
    "\n",
    "# rename energy col\n",
    "train_sdf = train_sdf.withColumnRenamed(\"energy\", \"label\")\n",
    "test_sdf = test_sdf.withColumnRenamed(\"energy\", \"label\")"
   ]
  },
  {
   "cell_type": "markdown",
   "metadata": {
    "id": "YZk9owfdC_VD"
   },
   "source": [
    "## Pipeline"
   ]
  },
  {
   "cell_type": "markdown",
   "metadata": {
    "id": "7oORzgrnWkPA"
   },
   "source": [
    "Base pipeline consisting of an imputer for missing values to replace them with the mean of each column, a vector assembler to combine features into a single vector, a scaler for feature normalization, and a linear regression model. We will use this pipeline as a base for the various feature selection methods to be applied later."
   ]
  },
  {
   "cell_type": "code",
   "execution_count": 9,
   "metadata": {
    "executionInfo": {
     "elapsed": 84935,
     "status": "ok",
     "timestamp": 1704906223220,
     "user": {
      "displayName": "Moritz Roller",
      "userId": "06905633796207639823"
     },
     "user_tz": -60
    },
    "id": "NUBvzwV09oNj"
   },
   "outputs": [],
   "source": [
    "# Imputer\n",
    "imputer = Imputer(\n",
    "    inputCols=train_sdf.columns,\n",
    "    outputCols=[col for col in train_sdf.columns],\n",
    "    strategy=\"mean\"\n",
    ")\n",
    "\n",
    "# Vector assembler\n",
    "ignore = ['label']\n",
    "assembler = VectorAssembler(\n",
    "    inputCols=[x for x in train_sdf.columns if x not in ignore],\n",
    "    outputCol='features')\n",
    "\n",
    "# Scaler\n",
    "scaler = StandardScaler(inputCol=\"features\", outputCol=\"scaledFeatures\", withStd=True, withMean=True)\n",
    "\n",
    "# Linear Regression\n",
    "lr = LinearRegression(featuresCol='scaledFeatures', labelCol='label')\n",
    "\n",
    "\n",
    "pipeline = Pipeline(stages=[imputer, assembler, scaler, lr])\n",
    "\n",
    "model = pipeline.fit(train_sdf)"
   ]
  },
  {
   "cell_type": "code",
   "execution_count": 10,
   "metadata": {
    "executionInfo": {
     "elapsed": 1716,
     "status": "ok",
     "timestamp": 1704906224916,
     "user": {
      "displayName": "Moritz Roller",
      "userId": "06905633796207639823"
     },
     "user_tz": -60
    },
    "id": "WLFp1ZVIDKYI"
   },
   "outputs": [],
   "source": [
    "predictions = model.transform(test_sdf)"
   ]
  },
  {
   "cell_type": "markdown",
   "metadata": {
    "id": "O1JGNz4sWkPB"
   },
   "source": [
    "# PART 1"
   ]
  },
  {
   "cell_type": "markdown",
   "metadata": {
    "id": "WDE8moLrWkPB"
   },
   "source": [
    " UnivariateFeatureSelector for feature selection (selection threshold of 0.05)\n",
    " - FPR (False Positive Rate)\n",
    " - FWE (Family-wise Error Rate) -> more conservative -> expecting a lower number of features selected"
   ]
  },
  {
   "cell_type": "markdown",
   "metadata": {
    "id": "z2nqrpoWWkPB"
   },
   "source": [
    "## Feature Selection with UnivariateFeatureSelector (FPR Strategy)"
   ]
  },
  {
   "cell_type": "code",
   "execution_count": 11,
   "metadata": {
    "executionInfo": {
     "elapsed": 56400,
     "status": "ok",
     "timestamp": 1704906281312,
     "user": {
      "displayName": "Moritz Roller",
      "userId": "06905633796207639823"
     },
     "user_tz": -60
    },
    "id": "DfjXdYInWkPB",
    "scrolled": true
   },
   "outputs": [],
   "source": [
    "# FPR\n",
    "selector_fpr = UnivariateFeatureSelector(featuresCol=\"scaledFeatures\", outputCol=\"selectedFeaturesFpr\",\n",
    "                                         labelCol=\"label\", selectionMode=\"fpr\")\n",
    "\n",
    "selector_fpr.setFeatureType(\"continuous\").setLabelType(\"continuous\").setSelectionThreshold(0.05)\n",
    "lr_fpr = LinearRegression(featuresCol='selectedFeaturesFpr', labelCol='label')\n",
    "\n",
    "pipeline_fpr = Pipeline(stages=[imputer, assembler, scaler, selector_fpr, lr_fpr])\n",
    "\n",
    "model_fpr = pipeline_fpr.fit(train_sdf)\n",
    "predictions_fpr = model_fpr.transform(test_sdf)"
   ]
  },
  {
   "cell_type": "markdown",
   "metadata": {
    "id": "aAchlwFrWkPB"
   },
   "source": [
    "## Feature Selection with UnivariateFeatureSelector (FWE Strategy)"
   ]
  },
  {
   "cell_type": "code",
   "execution_count": 12,
   "metadata": {
    "executionInfo": {
     "elapsed": 39923,
     "status": "ok",
     "timestamp": 1704906321216,
     "user": {
      "displayName": "Moritz Roller",
      "userId": "06905633796207639823"
     },
     "user_tz": -60
    },
    "id": "KKBAYtoxWkPB"
   },
   "outputs": [],
   "source": [
    "# FWE\n",
    "selector_fwe = UnivariateFeatureSelector(featuresCol=\"features\", outputCol=\"selectedFeaturesFWE\",\n",
    "                                         labelCol=\"label\", selectionMode=\"fwe\")\n",
    "selector_fwe.setFeatureType(\"continuous\").setLabelType(\"continuous\").setSelectionThreshold(0.05)\n",
    "\n",
    "lr_fwe = LinearRegression(featuresCol='selectedFeaturesFWE', labelCol='label')\n",
    "\n",
    "pipeline_fwe = Pipeline(stages=[imputer, assembler, scaler, selector_fwe, lr_fwe])\n",
    "\n",
    "model_fwe = pipeline_fwe.fit(train_sdf)\n",
    "predictions_fwe = model_fwe.transform(test_sdf)"
   ]
  },
  {
   "cell_type": "markdown",
   "metadata": {
    "id": "ayyN-YvAWkPC"
   },
   "source": [
    "## PCA with 3 Components"
   ]
  },
  {
   "cell_type": "code",
   "execution_count": 13,
   "metadata": {
    "executionInfo": {
     "elapsed": 43852,
     "status": "ok",
     "timestamp": 1704906365050,
     "user": {
      "displayName": "Moritz Roller",
      "userId": "06905633796207639823"
     },
     "user_tz": -60
    },
    "id": "lABhMut1WkPC"
   },
   "outputs": [],
   "source": [
    "# PCA\n",
    "pca = PCA(k=3, inputCol=\"scaledFeatures\", outputCol=\"pcaFeatures\")\n",
    "\n",
    "lr_pca = LinearRegression(featuresCol='pcaFeatures', labelCol='label')\n",
    "\n",
    "pipeline_pca = Pipeline(stages=[imputer, assembler, scaler, pca, lr_pca])\n",
    "\n",
    "model_pca = pipeline_pca.fit(train_sdf)\n",
    "predictions_pca = model_pca.transform(test_sdf)"
   ]
  },
  {
   "cell_type": "markdown",
   "metadata": {
    "id": "9bu58UuxWkPC"
   },
   "source": [
    "# PART 2\n",
    "\n",
    "Combining feature selection based on PCR and PCA."
   ]
  },
  {
   "cell_type": "code",
   "execution_count": 14,
   "metadata": {
    "executionInfo": {
     "elapsed": 55959,
     "status": "ok",
     "timestamp": 1704906421003,
     "user": {
      "displayName": "Moritz Roller",
      "userId": "06905633796207639823"
     },
     "user_tz": -60
    },
    "id": "nc6VGNS4IN1b"
   },
   "outputs": [],
   "source": [
    "# from before\n",
    "imputer = Imputer(\n",
    "    inputCols=train_sdf.columns,\n",
    "    outputCols=[col for col in train_sdf.columns],\n",
    "    strategy=\"mean\"\n",
    ")\n",
    "\n",
    "ignore = ['label']\n",
    "assembler = VectorAssembler(\n",
    "    inputCols=[x for x in train_sdf.columns if x not in ignore],\n",
    "    outputCol='features')\n",
    "\n",
    "scaler = StandardScaler(inputCol=\"features\", outputCol=\"scaledFeatures\", withStd=True, withMean=True)\n",
    "\n",
    "lr_combined = LinearRegression(featuresCol=\"combinedFeatures\", labelCol=\"label\")\n",
    "\n",
    "# fpr\n",
    "selector_fpr = UnivariateFeatureSelector(featuresCol=\"scaledFeatures\", outputCol=\"selectedFeaturesFpr\",\n",
    "                                         labelCol=\"label\", selectionMode=\"fpr\")\n",
    "selector_fpr.setFeatureType(\"continuous\").setLabelType(\"continuous\").setSelectionThreshold(0.05)\n",
    "\n",
    "# PCA\n",
    "pca = PCA(k=3, inputCol=\"scaledFeatures\", outputCol=\"pcaFeatures\") #scaledFeatures\n",
    "\n",
    "# Combine FPR features and PCA components\n",
    "assembler_combined = VectorAssembler(inputCols=[\"selectedFeaturesFpr\", \"pcaFeatures\"], outputCol=\"combinedFeatures\")\n",
    "\n",
    "\n",
    "pipeline_combined = Pipeline(stages=[imputer, assembler, scaler, selector_fpr, pca, assembler_combined, lr_combined])\n",
    "model_combined = pipeline_combined.fit(train_sdf)\n",
    "predictions_combined = model_combined.transform(test_sdf)"
   ]
  },
  {
   "cell_type": "markdown",
   "metadata": {
    "id": "5Kz_1v7YWkPC"
   },
   "source": [
    "## Model Evaluation"
   ]
  },
  {
   "cell_type": "code",
   "execution_count": 15,
   "metadata": {
    "colab": {
     "base_uri": "https://localhost:8080/"
    },
    "executionInfo": {
     "elapsed": 17838,
     "status": "ok",
     "timestamp": 1704906438819,
     "user": {
      "displayName": "Moritz Roller",
      "userId": "06905633796207639823"
     },
     "user_tz": -60
    },
    "id": "iu0t-YLMSawG",
    "outputId": "ac17f8bf-b959-42fd-98b6-cd268ba138fd"
   },
   "outputs": [
    {
     "name": "stdout",
     "output_type": "stream",
     "text": [
      "MAE\n",
      "Base Pipeline: 403.0693682068891\n",
      "FPR: 403.91288914768865\n",
      "FWE: 404.22277479980056\n",
      "PCA: 500.5333706603713\n",
      "Combined: 400.69015238439994\n",
      "\n",
      "RMSE\n",
      "Base Pipeline: 532.1118163982943\n",
      "FPR: 529.0331249949043\n",
      "FWE: 530.5544449517731\n",
      "PCA: 619.8620192323816\n",
      "Combined: 530.4409593542097\n"
     ]
    }
   ],
   "source": [
    "# evaluators for  MAE & RMSE\n",
    "evaluator_mae = RegressionEvaluator(labelCol=\"label\", predictionCol=\"prediction\", metricName=\"mae\")\n",
    "evaluator_rmse = RegressionEvaluator(labelCol=\"label\", predictionCol=\"prediction\", metricName=\"rmse\")\n",
    "\n",
    "#MAE\n",
    "mae_base = evaluator_mae.evaluate(predictions)\n",
    "mae_fpr = evaluator_mae.evaluate(predictions_fpr)\n",
    "mae_fwe = evaluator_mae.evaluate(predictions_fwe)\n",
    "mae_pca = evaluator_mae.evaluate(predictions_pca)\n",
    "mae_combined = evaluator_mae.evaluate(predictions_combined)\n",
    "\n",
    "print(\"MAE\")\n",
    "print(f\"Base Pipeline: {mae_base}\")\n",
    "print(f\"FPR: {mae_fpr}\")\n",
    "print(f\"FWE: {mae_fwe}\")\n",
    "print(f\"PCA: {mae_pca}\")\n",
    "print(f\"Combined: {mae_combined}\")\n",
    "\n",
    "\n",
    "#RMSE\n",
    "rmse_base = evaluator_rmse.evaluate(predictions)\n",
    "rmse_fpr = evaluator_rmse.evaluate(predictions_fpr)\n",
    "rmse_fwe = evaluator_rmse.evaluate(predictions_fwe)\n",
    "rmse_pca = evaluator_rmse.evaluate(predictions_pca)\n",
    "rmse_combined = evaluator_rmse.evaluate(predictions_combined)\n",
    "\n",
    "print(\"\\nRMSE\")\n",
    "print(f\"Base Pipeline: {rmse_base}\")\n",
    "print(f\"FPR: {rmse_fpr}\")\n",
    "print(f\"FWE: {rmse_fwe}\")\n",
    "print(f\"PCA: {rmse_pca}\")\n",
    "print(f\"Combined: {rmse_combined}\")\n"
   ]
  },
  {
   "cell_type": "markdown",
   "metadata": {
    "id": "u6sTKjObWkPD"
   },
   "source": [
    "The results indicate that **feature selection can improve or at least maintain model performance with fewer features.**\n",
    "\n",
    "**FWE** feature selection, is able to maintain a decent error rate, comparable to the basic model with all the features, but with less. Which we see as an improvememnt.\n",
    "\n",
    "**The Combined strategy was the most effective in reducing the number of features while maintaining model performance with an MAE of aproximately 400.**\n",
    "\n",
    "To be noted is the very bad performance of the PCA. From our research, we think the main ideas leading to this are:\n",
    "   \n",
    "   - **Redundant or Irrelevant Features**: features selected by one method may not complement the features selected by another. For example as PCA is unsupervised and selects features based on variance it does not have much predictive power. If the variance doesn't align well with the target variable, PCA components might not be useful, hence also the PCA RMSE score.  \n",
    "   - **Feature Interactions**: features selected through FPR are individually hence but their combination with PCA features might be leading the good results of the combined model."
   ]
  },
  {
   "cell_type": "markdown",
   "metadata": {
    "id": "QOhOErUxWkPD"
   },
   "source": [
    "# PART 3\n",
    "\n",
    "Determining Number of Features Selected"
   ]
  },
  {
   "cell_type": "code",
   "execution_count": 18,
   "metadata": {
    "colab": {
     "base_uri": "https://localhost:8080/"
    },
    "executionInfo": {
     "elapsed": 3,
     "status": "ok",
     "timestamp": 1704906478085,
     "user": {
      "displayName": "Moritz Roller",
      "userId": "06905633796207639823"
     },
     "user_tz": -60
    },
    "id": "cMPsumpHWkPE",
    "outputId": "51cf2969-3caf-4c96-cd50-9cbcffa161f4"
   },
   "outputs": [
    {
     "name": "stdout",
     "output_type": "stream",
     "text": [
      "Number of Selected Features FPR: 522\n"
     ]
    }
   ],
   "source": [
    "selector_model = model_fpr.stages[3]\n",
    "selected_features = selector_model.selectedFeatures\n",
    "\n",
    "print(\"Number of Selected Features FPR:\", len(selected_features))"
   ]
  },
  {
   "cell_type": "code",
   "execution_count": 19,
   "metadata": {
    "colab": {
     "base_uri": "https://localhost:8080/"
    },
    "executionInfo": {
     "elapsed": 262,
     "status": "ok",
     "timestamp": 1704906479160,
     "user": {
      "displayName": "Moritz Roller",
      "userId": "06905633796207639823"
     },
     "user_tz": -60
    },
    "id": "LGfndmfUQN1G",
    "outputId": "4c509e19-cb4f-4e8e-9be5-a2322b081333"
   },
   "outputs": [
    {
     "name": "stdout",
     "output_type": "stream",
     "text": [
      "Number of Selected Features FWE: 495\n"
     ]
    }
   ],
   "source": [
    "selector_model = model_fwe.stages[3]\n",
    "selected_features = selector_model.selectedFeatures\n",
    "\n",
    "print(\"Number of Selected Features FWE:\", len(selected_features))"
   ]
  },
  {
   "cell_type": "markdown",
   "metadata": {
    "id": "kW1wkP1dPbH5"
   },
   "source": [
    "Using FPR strategy, from the original 550 features, 522 were kept, while 28 were discarded. Using FWE, only 495 features were kept."
   ]
  },
  {
   "cell_type": "markdown",
   "metadata": {
    "id": "Xrou8IhFWkPE"
   },
   "source": [
    "# Conclusions"
   ]
  },
  {
   "cell_type": "markdown",
   "metadata": {
    "id": "msAsYFPLWkPE"
   },
   "source": [
    "As we know based on our previous assignment, the dataset is time-series, with relevant patterns of seasonality. Last time we did feature selection by hand, focusing on a limited number of them. Now on the Feature Selection procedure.\n",
    "\n",
    "**In conclusion**, our analysis suggests that **feature selection techniques such as FPR and FWE can enhance model performance over the base model, however the relevance of features in time series can fluctuate over time**.\n",
    "\n",
    "**PCA's as an unsupervised method to reduce dimensionality** does not account for new information as it emerges, particularly in dataset like ours which presents seasonal patterns and temporal shifts.\n",
    "\n",
    "On the other hand,  **FWE's conservative looks more suitable** for time series, as it selects features with robust statistical significance potentially offering a more stable signal.\n",
    "\n",
    "**The combination between features selected by FPR is suitable when combined with PCA components**, hence the performance.\n",
    "\n",
    "In conclusion the FWE and Combined FPR+ PCA strategies showed improved/stable performance over the base model."
   ]
  }
 ],
 "metadata": {
  "colab": {
   "provenance": []
  },
  "kernelspec": {
   "display_name": "Python 3 (ipykernel)",
   "language": "python",
   "name": "python3"
  },
  "language_info": {
   "codemirror_mode": {
    "name": "ipython",
    "version": 3
   },
   "file_extension": ".py",
   "mimetype": "text/x-python",
   "name": "python",
   "nbconvert_exporter": "python",
   "pygments_lexer": "ipython3",
   "version": "3.11.5"
  }
 },
 "nbformat": 4,
 "nbformat_minor": 4
}
